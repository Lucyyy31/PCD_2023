{
 "cells": [
  {
   "cell_type": "markdown",
   "id": "e2f15d35-5dd7-496c-aaa2-0671adc65fde",
   "metadata": {},
   "source": [
    "# Clase 16/11/2023: SOCKETS "
   ]
  },
  {
   "cell_type": "markdown",
   "id": "d06fc3e2-49c3-4234-8949-2d9b4d5956cf",
   "metadata": {},
   "source": [
    "Comunicación entre 2 programas independientes"
   ]
  },
  {
   "cell_type": "code",
   "execution_count": 1,
   "id": "87854a23-828b-4d78-90b0-41315f22dfa9",
   "metadata": {},
   "outputs": [],
   "source": [
    "from IPython import display as dp"
   ]
  },
  {
   "cell_type": "code",
   "execution_count": 3,
   "id": "e14b8e01-3085-4d97-b501-77fd3a9de5bd",
   "metadata": {},
   "outputs": [],
   "source": [
    "import socket as sc"
   ]
  },
  {
   "cell_type": "code",
   "execution_count": 31,
   "id": "f7404e59-ef29-4cf4-be3a-2de2f82c92ee",
   "metadata": {},
   "outputs": [
    {
     "data": {
      "text/plain": [
       "'LAPTOP-1UNB6HVL'"
      ]
     },
     "execution_count": 31,
     "metadata": {},
     "output_type": "execute_result"
    }
   ],
   "source": [
    "sc.gethostname()"
   ]
  },
  {
   "cell_type": "code",
   "execution_count": 15,
   "id": "a65ff1d0-1bc0-41bb-8960-80fa04e14c56",
   "metadata": {},
   "outputs": [],
   "source": [
    "s=sc.socket() # crear instancia del socket"
   ]
  },
  {
   "cell_type": "code",
   "execution_count": 14,
   "id": "8dc24248-8cdf-4446-9700-f27c2da4f6a9",
   "metadata": {},
   "outputs": [],
   "source": [
    "#s.getsockname()"
   ]
  },
  {
   "cell_type": "code",
   "execution_count": 16,
   "id": "e07c0dae-affe-4ae4-92ad-6b83d0430570",
   "metadata": {},
   "outputs": [
    {
     "name": "stdout",
     "output_type": "stream",
     "text": [
      "\n",
      "Configuraci¢n IP de Windows\n",
      "\n",
      "\n",
      "Adaptador de LAN inal mbrica Conexi¢n de  rea local* 3:\n",
      "\n",
      "   Estado de los medios. . . . . . . . . . . : medios desconectados\n",
      "   Sufijo DNS espec¡fico para la conexi¢n. . : \n",
      "\n",
      "Adaptador de LAN inal mbrica Conexi¢n de  rea local* 12:\n",
      "\n",
      "   Estado de los medios. . . . . . . . . . . : medios desconectados\n",
      "   Sufijo DNS espec¡fico para la conexi¢n. . : \n",
      "\n",
      "Adaptador de LAN inal mbrica Wi-Fi:\n",
      "\n",
      "   Sufijo DNS espec¡fico para la conexi¢n. . : \n",
      "   V¡nculo: direcci¢n IPv6 local. . . : fe80::8818:e9f7:5f8a:7307%3\n",
      "   Direcci¢n IPv4. . . . . . . . . . . . . . : 192.168.1.37\n",
      "   M scara de subred . . . . . . . . . . . . : 255.255.255.0\n",
      "   Puerta de enlace predeterminada . . . . . : 192.168.1.1\n"
     ]
    }
   ],
   "source": [
    "!ipconfig"
   ]
  },
  {
   "cell_type": "code",
   "execution_count": 17,
   "id": "d24cce15-868c-44e8-b2d0-3b0e9527a2f2",
   "metadata": {},
   "outputs": [
    {
     "name": "stdin",
     "output_type": "stream",
     "text": [
      "Introduzca el puerto que desea usar 3456\n"
     ]
    }
   ],
   "source": [
    "port = input(\"Introduzca el puerto que desea usar\")"
   ]
  },
  {
   "cell_type": "code",
   "execution_count": 19,
   "id": "1cd51d23-228a-41d4-9658-7245dedf93eb",
   "metadata": {},
   "outputs": [
    {
     "name": "stdin",
     "output_type": "stream",
     "text": [
      "Introduzca la IP del servidor que desea usar 192.168.1.37\n"
     ]
    }
   ],
   "source": [
    "host = input(\"Introduzca la IP del servidor que desea usar\")"
   ]
  },
  {
   "cell_type": "code",
   "execution_count": 20,
   "id": "1dd94111-93df-4aa6-a6ff-975e975a1efa",
   "metadata": {},
   "outputs": [
    {
     "data": {
      "text/plain": [
       "('3456', '192.168.1.37')"
      ]
     },
     "execution_count": 20,
     "metadata": {},
     "output_type": "execute_result"
    }
   ],
   "source": [
    "port, host"
   ]
  },
  {
   "cell_type": "code",
   "execution_count": 21,
   "id": "641cb5c1-e353-4a08-b62f-6e1934cc359c",
   "metadata": {},
   "outputs": [
    {
     "ename": "ConnectionRefusedError",
     "evalue": "[WinError 10061] No se puede establecer una conexión ya que el equipo de destino denegó expresamente dicha conexión",
     "output_type": "error",
     "traceback": [
      "\u001b[1;31m---------------------------------------------------------------------------\u001b[0m",
      "\u001b[1;31mConnectionRefusedError\u001b[0m                    Traceback (most recent call last)",
      "Cell \u001b[1;32mIn[21], line 1\u001b[0m\n\u001b[1;32m----> 1\u001b[0m \u001b[43ms\u001b[49m\u001b[38;5;241;43m.\u001b[39;49m\u001b[43mconnect\u001b[49m\u001b[43m(\u001b[49m\u001b[43m(\u001b[49m\u001b[43mhost\u001b[49m\u001b[43m,\u001b[49m\u001b[43m \u001b[49m\u001b[38;5;28;43mint\u001b[39;49m\u001b[43m(\u001b[49m\u001b[43mport\u001b[49m\u001b[43m)\u001b[49m\u001b[43m)\u001b[49m\u001b[43m)\u001b[49m\n",
      "\u001b[1;31mConnectionRefusedError\u001b[0m: [WinError 10061] No se puede establecer una conexión ya que el equipo de destino denegó expresamente dicha conexión"
     ]
    }
   ],
   "source": [
    "s.connect((host, int(port)))"
   ]
  },
  {
   "cell_type": "code",
   "execution_count": null,
   "id": "570070dc-afa8-4857-93f1-a88d862e3664",
   "metadata": {},
   "outputs": [],
   "source": []
  },
  {
   "cell_type": "markdown",
   "id": "6a708ff2-3b43-4479-b242-4444abeebb99",
   "metadata": {},
   "source": [
    "## Cliente"
   ]
  },
  {
   "cell_type": "markdown",
   "id": "ada63d5a-1be7-4511-97fa-130ccce74791",
   "metadata": {},
   "source": [
    "## Server"
   ]
  },
  {
   "cell_type": "code",
   "execution_count": 27,
   "id": "1b4b4961-e347-416f-a232-d8b4cd8b1488",
   "metadata": {},
   "outputs": [],
   "source": [
    "import threading as th"
   ]
  },
  {
   "cell_type": "code",
   "execution_count": null,
   "id": "ebd6d0e3-f2e6-4207-a6c9-ba31ef5aba40",
   "metadata": {},
   "outputs": [],
   "source": [
    "class Server():\n",
    "    def__init__():"
   ]
  },
  {
   "cell_type": "code",
   "execution_count": 29,
   "id": "9c259849-9f26-4112-ac16-48702aec87c9",
   "metadata": {},
   "outputs": [
    {
     "data": {
      "text/plain": [
       "<Thread(Thread-11 (procesar), initial daemon)>"
      ]
     },
     "execution_count": 29,
     "metadata": {},
     "output_type": "execute_result"
    }
   ],
   "source": [
    "th.Thread(target=aceptar,daemon=True).start()\n",
    "th.Thread(target=procesar, daemon=True).start()"
   ]
  },
  {
   "cell_type": "code",
   "execution_count": 25,
   "id": "7322affb-5f3f-4145-bd64-268b31fbe8d7",
   "metadata": {},
   "outputs": [],
   "source": [
    "def aceptar():\n",
    "    pass #hilo demonio para que nunca deje de funcionar"
   ]
  },
  {
   "cell_type": "code",
   "execution_count": 26,
   "id": "4d973e1a-5ae2-4c46-ac8d-f00c756e5581",
   "metadata": {},
   "outputs": [],
   "source": [
    "def procesar():\n",
    "    pass # pasa lo mismo que en la anterior"
   ]
  },
  {
   "cell_type": "code",
   "execution_count": 30,
   "id": "d82816c0-8247-43dd-af8f-afbeb9330c1d",
   "metadata": {},
   "outputs": [],
   "source": [
    "def broadcast():\n",
    "    pass"
   ]
  },
  {
   "cell_type": "code",
   "execution_count": null,
   "id": "21b9d2cd-f242-4997-84cc-5be9fd2330ab",
   "metadata": {},
   "outputs": [],
   "source": []
  }
 ],
 "metadata": {
  "kernelspec": {
   "display_name": "Python 3 (ipykernel)",
   "language": "python",
   "name": "python3"
  },
  "language_info": {
   "codemirror_mode": {
    "name": "ipython",
    "version": 3
   },
   "file_extension": ".py",
   "mimetype": "text/x-python",
   "name": "python",
   "nbconvert_exporter": "python",
   "pygments_lexer": "ipython3",
   "version": "3.11.5"
  }
 },
 "nbformat": 4,
 "nbformat_minor": 5
}
