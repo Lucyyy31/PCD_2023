{
 "cells": [
  {
   "cell_type": "markdown",
   "id": "3ecea99d-6a92-44e1-9f6a-156c272836ce",
   "metadata": {},
   "source": [
    "# CLASE 26 DE OCTUBRE Y 2 DE NOVIEMBRE"
   ]
  },
  {
   "cell_type": "markdown",
   "id": "24a2cf76-1319-4bf5-8fd0-3e4d77f3d062",
   "metadata": {},
   "source": [
    "Generar una matriz A que sea 300x300 y tenga dentro nº aleatorios del 0 a los 3 primeros nº del número de expediente"
   ]
  },
  {
   "cell_type": "code",
   "execution_count": 6,
   "id": "51b01e75-2179-4cee-8346-ab0e4782d7d3",
   "metadata": {},
   "outputs": [],
   "source": [
    "import random as r "
   ]
  },
  {
   "cell_type": "code",
   "execution_count": 18,
   "id": "61f5ec77-b1b8-4a58-b9d5-a9530c2aa563",
   "metadata": {},
   "outputs": [],
   "source": [
    "for i in range(300):\n",
    "    for j in range(300): \n",
    "        A = [i,j] \n",
    "    "
   ]
  },
  {
   "cell_type": "code",
   "execution_count": 19,
   "id": "7af2731c-04b2-4836-a217-aed43bcb2f4d",
   "metadata": {},
   "outputs": [],
   "source": [
    "A= [[r.randint(0,222) for i in range (10)] for i in range(10)] "
   ]
  },
  {
   "cell_type": "code",
   "execution_count": 22,
   "id": "bd6d93f0-53cd-4ff2-afdd-63be5a2e0f16",
   "metadata": {},
   "outputs": [
    {
     "data": {
      "text/plain": [
       "[[13, 60, 204, 30, 95, 153, 147, 5, 87, 196],\n",
       " [120, 33, 116, 101, 42, 159, 100, 179, 187, 21],\n",
       " [116, 212, 190, 202, 3, 91, 14, 184, 77, 104],\n",
       " [63, 47, 217, 2, 218, 32, 66, 27, 55, 180],\n",
       " [37, 165, 30, 195, 0, 46, 91, 80, 176, 82],\n",
       " [145, 175, 13, 185, 36, 127, 50, 126, 199, 26],\n",
       " [175, 134, 158, 188, 108, 43, 168, 110, 27, 174],\n",
       " [190, 64, 65, 157, 88, 75, 158, 189, 67, 107],\n",
       " [219, 206, 156, 31, 140, 90, 29, 131, 43, 7],\n",
       " [131, 221, 66, 38, 152, 21, 9, 135, 93, 51]]"
      ]
     },
     "execution_count": 22,
     "metadata": {},
     "output_type": "execute_result"
    }
   ],
   "source": [
    "A"
   ]
  },
  {
   "cell_type": "code",
   "execution_count": 33,
   "id": "986e33b1-b422-4b65-a9e4-dea62d629eb7",
   "metadata": {},
   "outputs": [],
   "source": [
    "B= [[r.randint(0,222) for i in range (20)] for i in range(5)] "
   ]
  },
  {
   "cell_type": "code",
   "execution_count": 34,
   "id": "7e6fa073-5716-47ba-a442-7680284f6e32",
   "metadata": {},
   "outputs": [
    {
     "data": {
      "text/plain": [
       "[[4,\n",
       "  188,\n",
       "  42,\n",
       "  41,\n",
       "  48,\n",
       "  133,\n",
       "  209,\n",
       "  161,\n",
       "  69,\n",
       "  114,\n",
       "  95,\n",
       "  143,\n",
       "  114,\n",
       "  47,\n",
       "  63,\n",
       "  185,\n",
       "  110,\n",
       "  188,\n",
       "  127,\n",
       "  23],\n",
       " [64,\n",
       "  146,\n",
       "  120,\n",
       "  212,\n",
       "  164,\n",
       "  172,\n",
       "  207,\n",
       "  218,\n",
       "  29,\n",
       "  210,\n",
       "  163,\n",
       "  136,\n",
       "  193,\n",
       "  128,\n",
       "  102,\n",
       "  25,\n",
       "  45,\n",
       "  121,\n",
       "  140,\n",
       "  96],\n",
       " [23,\n",
       "  114,\n",
       "  152,\n",
       "  84,\n",
       "  94,\n",
       "  183,\n",
       "  90,\n",
       "  68,\n",
       "  175,\n",
       "  179,\n",
       "  19,\n",
       "  83,\n",
       "  84,\n",
       "  24,\n",
       "  157,\n",
       "  53,\n",
       "  8,\n",
       "  222,\n",
       "  41,\n",
       "  131],\n",
       " [220,\n",
       "  184,\n",
       "  110,\n",
       "  195,\n",
       "  15,\n",
       "  55,\n",
       "  100,\n",
       "  51,\n",
       "  139,\n",
       "  183,\n",
       "  84,\n",
       "  34,\n",
       "  146,\n",
       "  49,\n",
       "  134,\n",
       "  133,\n",
       "  156,\n",
       "  88,\n",
       "  6,\n",
       "  162],\n",
       " [49,\n",
       "  192,\n",
       "  161,\n",
       "  32,\n",
       "  20,\n",
       "  81,\n",
       "  91,\n",
       "  213,\n",
       "  175,\n",
       "  84,\n",
       "  160,\n",
       "  156,\n",
       "  72,\n",
       "  14,\n",
       "  44,\n",
       "  142,\n",
       "  198,\n",
       "  66,\n",
       "  13,\n",
       "  209]]"
      ]
     },
     "execution_count": 34,
     "metadata": {},
     "output_type": "execute_result"
    }
   ],
   "source": [
    "B"
   ]
  },
  {
   "cell_type": "code",
   "execution_count": 27,
   "id": "df821a55-ae1c-4095-bbc4-6fa602a061fb",
   "metadata": {},
   "outputs": [
    {
     "data": {
      "text/plain": [
       "<function list.count(value, /)>"
      ]
     },
     "execution_count": 27,
     "metadata": {},
     "output_type": "execute_result"
    }
   ],
   "source": [
    "A.count"
   ]
  },
  {
   "cell_type": "code",
   "execution_count": 35,
   "id": "c23fdc9c-5fd6-4dc0-ade1-e86b3caa71af",
   "metadata": {},
   "outputs": [
    {
     "data": {
      "text/plain": [
       "20"
      ]
     },
     "execution_count": 35,
     "metadata": {},
     "output_type": "execute_result"
    }
   ],
   "source": [
    "len(A) #tamaño de A de las filas"
   ]
  },
  {
   "cell_type": "code",
   "execution_count": 39,
   "id": "cbff57ea-9b25-4102-acba-4ae945d260d7",
   "metadata": {},
   "outputs": [
    {
     "data": {
      "text/plain": [
       "20"
      ]
     },
     "execution_count": 39,
     "metadata": {},
     "output_type": "execute_result"
    }
   ],
   "source": [
    "len(B[0]) #tamaño de B de las columnas"
   ]
  },
  {
   "cell_type": "code",
   "execution_count": 46,
   "id": "ca68cb7f-8808-49f9-8ab1-43baff34c19f",
   "metadata": {},
   "outputs": [
    {
     "name": "stdout",
     "output_type": "stream",
     "text": [
      "No son compatibles\n"
     ]
    }
   ],
   "source": [
    "if (len(A[0]) == len(B)):\n",
    "    print(\"La matriz A es compatible con la matriz B\")\n",
    "else: \n",
    "    print(\"No son compatibles\")"
   ]
  },
  {
   "cell_type": "code",
   "execution_count": 51,
   "id": "bc07f0b3-bd30-40a3-a580-a215c55cbf5d",
   "metadata": {},
   "outputs": [
    {
     "name": "stdin",
     "output_type": "stream",
     "text": [
      "Ingrese la dimension de las filas de A:  3\n"
     ]
    }
   ],
   "source": [
    "filas_A= input(\"Ingrese la dimension de las filas de A: \")"
   ]
  },
  {
   "cell_type": "code",
   "execution_count": 58,
   "id": "16b7d3f0-3a0c-4568-a870-a2711da18080",
   "metadata": {},
   "outputs": [
    {
     "name": "stdin",
     "output_type": "stream",
     "text": [
      " Ingrese la dimension de las columnas de A:  3\n"
     ]
    }
   ],
   "source": [
    "columnas_A = input(\" Ingrese la dimension de las columnas de A: \")"
   ]
  },
  {
   "cell_type": "code",
   "execution_count": 63,
   "id": "2198c3fc-7f75-45de-a248-a6a391d533a1",
   "metadata": {},
   "outputs": [
    {
     "ename": "SyntaxError",
     "evalue": "invalid syntax. Perhaps you forgot a comma? (2582628663.py, line 1)",
     "output_type": "error",
     "traceback": [
      "\u001b[1;36m  Cell \u001b[1;32mIn[63], line 1\u001b[1;36m\u001b[0m\n\u001b[1;33m    print(Las dimensiones introducidas son: A[\"filas_A\", \"columnas_A\"])\u001b[0m\n\u001b[1;37m          ^\u001b[0m\n\u001b[1;31mSyntaxError\u001b[0m\u001b[1;31m:\u001b[0m invalid syntax. Perhaps you forgot a comma?\n"
     ]
    }
   ],
   "source": [
    "print(Las dimensiones introducidas son: A[\"filas_A\", \"columnas_A\"])"
   ]
  },
  {
   "cell_type": "markdown",
   "id": "52852ea3-3deb-46d3-8225-29a7225dfd8e",
   "metadata": {},
   "source": [
    " ### MULTIPLICACIÓN DE 2 MATRICES"
   ]
  },
  {
   "cell_type": "code",
   "execution_count": 46,
   "id": "ff6cd293-8708-411e-850a-dde913cf2889",
   "metadata": {},
   "outputs": [
    {
     "name": "stdin",
     "output_type": "stream",
     "text": [
      "Ingrese la dimension de las filas de A:  2\n"
     ]
    }
   ],
   "source": [
    "filas_A= input(\"Ingrese la dimension de las filas de A: \")"
   ]
  },
  {
   "cell_type": "code",
   "execution_count": 47,
   "id": "96dd3727-98c8-4ca1-9c4b-c0a0eadaefb3",
   "metadata": {},
   "outputs": [
    {
     "name": "stdin",
     "output_type": "stream",
     "text": [
      " Ingrese la dimension de las columnas de A:  3\n"
     ]
    }
   ],
   "source": [
    "columnas_A = input(\" Ingrese la dimension de las columnas de A: \")"
   ]
  },
  {
   "cell_type": "code",
   "execution_count": 48,
   "id": "1491bb27-1a9b-4182-bd7d-d4f372677d59",
   "metadata": {},
   "outputs": [],
   "source": [
    "A= [[r.randint(0,222) for i in range (int(columnas_A))] for i in range(int(filas_A))] "
   ]
  },
  {
   "cell_type": "code",
   "execution_count": 49,
   "id": "3228f626-b4e7-4367-9215-54e110735b11",
   "metadata": {},
   "outputs": [
    {
     "data": {
      "text/plain": [
       "[[108, 197, 87], [165, 123, 93]]"
      ]
     },
     "execution_count": 49,
     "metadata": {},
     "output_type": "execute_result"
    }
   ],
   "source": [
    "A"
   ]
  },
  {
   "cell_type": "code",
   "execution_count": 50,
   "id": "cc783674-bfc8-4995-82d3-53f1e4f8a92c",
   "metadata": {},
   "outputs": [
    {
     "name": "stdin",
     "output_type": "stream",
     "text": [
      "Ingrese la dimension de las filas de B:  3\n"
     ]
    }
   ],
   "source": [
    "filas_B= input(\"Ingrese la dimension de las filas de B: \")"
   ]
  },
  {
   "cell_type": "code",
   "execution_count": 51,
   "id": "c8594847-7e8f-4ab1-8281-12a5ba933d10",
   "metadata": {},
   "outputs": [
    {
     "name": "stdin",
     "output_type": "stream",
     "text": [
      " Ingrese la dimension de las columnas de B:  3\n"
     ]
    }
   ],
   "source": [
    "columnas_B = input(\" Ingrese la dimension de las columnas de B: \")"
   ]
  },
  {
   "cell_type": "code",
   "execution_count": 52,
   "id": "58599b35-1c97-489a-ab8d-3b5f6b733676",
   "metadata": {},
   "outputs": [],
   "source": [
    "B = [[r.randint(0,222) for i in range (int(columnas_B))] for i in range(int(filas_B))] "
   ]
  },
  {
   "cell_type": "code",
   "execution_count": 53,
   "id": "9509ba94-98a8-466d-80c8-550a423ed3d1",
   "metadata": {},
   "outputs": [
    {
     "data": {
      "text/plain": [
       "[[173, 154, 172], [195, 64, 101], [163, 219, 212]]"
      ]
     },
     "execution_count": 53,
     "metadata": {},
     "output_type": "execute_result"
    }
   ],
   "source": [
    "B"
   ]
  },
  {
   "cell_type": "code",
   "execution_count": 54,
   "id": "41ff36be-48b4-4d87-afeb-1e650528993a",
   "metadata": {},
   "outputs": [],
   "source": [
    "def multiplicacion(A,B):\n",
    "    if(len(A[0]) == len(B)): #Columnas de A == filas de B\n",
    "        filas_A = len(A)\n",
    "        columnas_A = len(A[0])\n",
    "        columnas_B = len(B[0])\n",
    "        resultado = [[0 for i in range(columnas_B)] for i in range(filas_A)] # Se llena toda la matriz de 0\n",
    "        for i in range(int(filas_A)):\n",
    "            for j in range(int(columnas_B)):\n",
    "                valor = 0;\n",
    "                for k in range(int(columnas_A)):\n",
    "                    valor += A[i][k] * B[k][j]\n",
    "                resultado[i][j] = valor \n",
    "        return resultado        \n",
    "    else: \n",
    "        print(\"No tienen las mismas dimensiones\")"
   ]
  },
  {
   "cell_type": "code",
   "execution_count": 55,
   "id": "40ccbf0d-f0bf-4b41-98b4-19ed95a817c8",
   "metadata": {},
   "outputs": [
    {
     "data": {
      "text/plain": [
       "[[71280, 48293, 56917], [67689, 53649, 60519]]"
      ]
     },
     "execution_count": 55,
     "metadata": {},
     "output_type": "execute_result"
    }
   ],
   "source": [
    "multiplicacion(A,B)"
   ]
  },
  {
   "cell_type": "code",
   "execution_count": null,
   "id": "8fe5fd8c-d36c-4baf-bf28-dc21afad2cbd",
   "metadata": {},
   "outputs": [],
   "source": []
  }
 ],
 "metadata": {
  "kernelspec": {
   "display_name": "Python 3 (ipykernel)",
   "language": "python",
   "name": "python3"
  },
  "language_info": {
   "codemirror_mode": {
    "name": "ipython",
    "version": 3
   },
   "file_extension": ".py",
   "mimetype": "text/x-python",
   "name": "python",
   "nbconvert_exporter": "python",
   "pygments_lexer": "ipython3",
   "version": "3.11.5"
  }
 },
 "nbformat": 4,
 "nbformat_minor": 5
}
