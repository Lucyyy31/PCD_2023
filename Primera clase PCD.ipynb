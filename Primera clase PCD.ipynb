{
 "cells": [
  {
   "cell_type": "markdown",
   "id": "4939ac19-1191-4bb3-b723-30c8b739865a",
   "metadata": {},
   "source": [
    "### PRIMERA CLASE PCD"
   ]
  },
  {
   "cell_type": "markdown",
   "id": "338fb4cd-56f5-43d3-83e3-20d9f61bb230",
   "metadata": {},
   "source": [
    "1. Muestre que versión de pip tiene"
   ]
  },
  {
   "cell_type": "code",
   "execution_count": 3,
   "id": "374480b8-2db5-4476-a1b4-854b3eeeb0ef",
   "metadata": {},
   "outputs": [
    {
     "name": "stdout",
     "output_type": "stream",
     "text": [
      "pip 23.2.1 from C:\\Program Files\\Python311\\Lib\\site-packages\\pip (python 3.11)\n",
      "\n"
     ]
    }
   ],
   "source": [
    "!pip --version"
   ]
  },
  {
   "cell_type": "code",
   "execution_count": 8,
   "id": "ced667e9-0327-4318-be3d-1ab24e6a767a",
   "metadata": {},
   "outputs": [],
   "source": [
    "import platform as pt"
   ]
  },
  {
   "cell_type": "markdown",
   "id": "77e7f22a-1e61-4341-b0fe-99e05b4c56e2",
   "metadata": {},
   "source": [
    "##### SYSTEM SPECS"
   ]
  },
  {
   "cell_type": "code",
   "execution_count": 10,
   "id": "484e320b-1169-40a7-87ad-ce4d32870521",
   "metadata": {},
   "outputs": [
    {
     "data": {
      "text/plain": [
       "uname_result(system='Windows', node='LAPTOP-1UNB6HVL', release='10', version='10.0.22621', machine='AMD64')"
      ]
     },
     "execution_count": 10,
     "metadata": {},
     "output_type": "execute_result"
    }
   ],
   "source": [
    "pt.uname()"
   ]
  },
  {
   "cell_type": "code",
   "execution_count": 11,
   "id": "34e04953-8dbe-420a-a44d-e1ba6c8a1fd1",
   "metadata": {},
   "outputs": [
    {
     "data": {
      "text/plain": [
       "'Windows-10-10.0.22621-SP0'"
      ]
     },
     "execution_count": 11,
     "metadata": {},
     "output_type": "execute_result"
    }
   ],
   "source": [
    "pt.platform()"
   ]
  },
  {
   "cell_type": "markdown",
   "id": "2a278163-1522-4843-a1e4-d605cda3f489",
   "metadata": {},
   "source": [
    "##### CORES"
   ]
  },
  {
   "cell_type": "code",
   "execution_count": 13,
   "id": "8474faaf-2158-422e-a307-3f4692fb2e44",
   "metadata": {},
   "outputs": [
    {
     "data": {
      "text/plain": [
       "8"
      ]
     },
     "execution_count": 13,
     "metadata": {},
     "output_type": "execute_result"
    }
   ],
   "source": [
    "import os\n",
    "os.cpu_count()"
   ]
  },
  {
   "cell_type": "code",
   "execution_count": null,
   "id": "fb826e3e-6b4e-46c9-937a-96d5449d1bec",
   "metadata": {},
   "outputs": [],
   "source": []
  }
 ],
 "metadata": {
  "kernelspec": {
   "display_name": "Python 3 (ipykernel)",
   "language": "python",
   "name": "python3"
  },
  "language_info": {
   "codemirror_mode": {
    "name": "ipython",
    "version": 3
   },
   "file_extension": ".py",
   "mimetype": "text/x-python",
   "name": "python",
   "nbconvert_exporter": "python",
   "pygments_lexer": "ipython3",
   "version": "3.11.5"
  }
 },
 "nbformat": 4,
 "nbformat_minor": 5
}
