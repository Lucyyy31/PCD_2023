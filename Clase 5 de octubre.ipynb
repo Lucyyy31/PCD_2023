{
 "cells": [
  {
   "cell_type": "markdown",
   "id": "cd9aa3b7-a8dd-4b0a-911e-9fb93ea57042",
   "metadata": {},
   "source": [
    "# CLASE 3/10/2023\n",
    "# HILOS "
   ]
  },
  {
   "cell_type": "markdown",
   "id": "80c9293d-5226-4f57-b2a1-32f5bce00c0d",
   "metadata": {},
   "source": [
    "## Importo librerias, manejo de hilos"
   ]
  },
  {
   "cell_type": "code",
   "execution_count": 12,
   "id": "22a4f400-3bf3-4952-b331-2ce71b2e7ff6",
   "metadata": {},
   "outputs": [],
   "source": [
    "import threading as th"
   ]
  },
  {
   "cell_type": "code",
   "execution_count": 5,
   "id": "7c887e7e-44a1-4f7b-9407-56e563c59cd3",
   "metadata": {},
   "outputs": [
    {
     "data": {
      "text/plain": [
       "6"
      ]
     },
     "execution_count": 5,
     "metadata": {},
     "output_type": "execute_result"
    }
   ],
   "source": [
    "th.active_count()"
   ]
  },
  {
   "cell_type": "code",
   "execution_count": 13,
   "id": "095b9fe6-7c5a-453e-932b-9b4b46c5103f",
   "metadata": {},
   "outputs": [
    {
     "data": {
      "text/plain": [
       "[<_MainThread(MainThread, started 24248)>,\n",
       " <Thread(IOPub, started daemon 16020)>,\n",
       " <Heartbeat(Heartbeat, started daemon 30784)>,\n",
       " <ControlThread(Control, started daemon 20396)>,\n",
       " <HistorySavingThread(IPythonHistorySavingThread, started 31100)>,\n",
       " <ParentPollerWindows(Thread-4, started daemon 1156)>]"
      ]
     },
     "execution_count": 13,
     "metadata": {},
     "output_type": "execute_result"
    }
   ],
   "source": [
    "th.enumerate()"
   ]
  },
  {
   "cell_type": "markdown",
   "id": "df569251-abf3-4a39-aca6-6908cfa88761",
   "metadata": {},
   "source": [
    "#### ¿Quién es el padre?"
   ]
  },
  {
   "cell_type": "code",
   "execution_count": 2,
   "id": "dd9cfdf9-5374-4734-b328-a6b025abad46",
   "metadata": {},
   "outputs": [],
   "source": [
    "import os"
   ]
  },
  {
   "cell_type": "code",
   "execution_count": 4,
   "id": "4ab4e952-eb1a-4ce7-a3d3-8e118ff2c391",
   "metadata": {},
   "outputs": [
    {
     "data": {
      "text/plain": [
       "15072"
      ]
     },
     "execution_count": 4,
     "metadata": {},
     "output_type": "execute_result"
    }
   ],
   "source": [
    "os.getpid()"
   ]
  },
  {
   "cell_type": "code",
   "execution_count": 8,
   "id": "122a5a85-3baa-4a5d-8371-cdf3f5ff62af",
   "metadata": {},
   "outputs": [],
   "source": [
    "from IPython import display as d"
   ]
  },
  {
   "cell_type": "code",
   "execution_count": null,
   "id": "4ea3f037-a806-412c-aef0-aa8ae631913d",
   "metadata": {},
   "outputs": [],
   "source": []
  },
  {
   "cell_type": "code",
   "execution_count": 9,
   "id": "793b3e8f-2545-4a5d-bb8a-6ccbb1d31447",
   "metadata": {},
   "outputs": [
    {
     "data": {
      "image/png": "[encoded data removed]",
      "text/plain": [
       "<IPython.core.display.Image object>"
      ]
     },
     "execution_count": 9,
     "metadata": {},
     "output_type": "execute_result"
    }
   ],
   "source": [
    "d.Image(\"Captura de pantalla 2023-10-05 155706.png\")"
   ]
  },
  {
   "cell_type": "markdown",
   "id": "453bfca9-0cb0-4708-890c-784cb270f0fe",
   "metadata": {},
   "source": [
    "#### Hilos vs procesos "
   ]
  },
  {
   "cell_type": "markdown",
   "id": "caa51445-0723-4999-9989-76bd1659e1aa",
   "metadata": {},
   "source": [
    "##### HILOS ej"
   ]
  },
  {
   "cell_type": "code",
   "execution_count": 18,
   "id": "618c4666-5f6e-4a9d-81e5-ceb8709881dc",
   "metadata": {},
   "outputs": [],
   "source": [
    "def do_nothing():\n",
    "    while True:\n",
    "        pass "
   ]
  },
  {
   "cell_type": "code",
   "execution_count": 19,
   "id": "b7d4efe4-9609-4adb-ae3a-fd2ece9db66e",
   "metadata": {},
   "outputs": [
    {
     "data": {
      "text/plain": [
       "[<_MainThread(MainThread, started 24248)>,\n",
       " <Thread(IOPub, started daemon 16020)>,\n",
       " <Heartbeat(Heartbeat, started daemon 30784)>,\n",
       " <ControlThread(Control, started daemon 20396)>,\n",
       " <HistorySavingThread(IPythonHistorySavingThread, started 31100)>,\n",
       " <ParentPollerWindows(Thread-4, started daemon 1156)>,\n",
       " <Thread(Thread-5 (do_nothing), started 23872)>,\n",
       " <Thread(Thread-6 (do_nothing), started 22576)>,\n",
       " <Thread(Thread-7 (do_nothing), started 28344)>,\n",
       " <Thread(Thread-8 (do_nothing), started 8836)>,\n",
       " <Thread(Thread-9 (do_nothing), started 24444)>,\n",
       " <Thread(Thread-10 (do_nothing), started 16948)>,\n",
       " <Thread(Thread-11 (do_nothing), started 30936)>,\n",
       " <Thread(Thread-12 (do_nothing), started 5380)>,\n",
       " <Thread(Thread-13 (do_nothing), started 29664)>,\n",
       " <Thread(Thread-14 (do_nothing), started 30100)>,\n",
       " <Thread(Thread-15 (do_nothing), started 20284)>,\n",
       " <Thread(Thread-16 (do_nothing), started 19396)>,\n",
       " <Thread(Thread-17 (do_nothing), started 21800)>,\n",
       " <Thread(Thread-18 (do_nothing), started 5836)>,\n",
       " <Thread(Thread-19 (do_nothing), started 13392)>,\n",
       " <Thread(Thread-20 (do_nothing), started 3224)>,\n",
       " <Thread(Thread-21 (do_nothing), started 30628)>,\n",
       " <Thread(Thread-22 (do_nothing), started 27568)>,\n",
       " <Thread(Thread-23 (do_nothing), started 28408)>,\n",
       " <Thread(Thread-24 (do_nothing), started 16572)>]"
      ]
     },
     "execution_count": 19,
     "metadata": {},
     "output_type": "execute_result"
    }
   ],
   "source": [
    "for i in range (20):\n",
    "    th.Thread(target=do_nothing).start()\n",
    "    \n",
    "th.enumerate()    "
   ]
  },
  {
   "cell_type": "markdown",
   "id": "4051a14c-6f57-4c59-8afe-83d197b56cfa",
   "metadata": {},
   "source": [
    "###### PROCESOS ej"
   ]
  },
  {
   "cell_type": "code",
   "execution_count": null,
   "id": "e1d8c145-7732-4cb5-8b30-da8b26301ef3",
   "metadata": {},
   "outputs": [],
   "source": [
    "for i in range (20):\n",
    "    mp.Process(target = do_nothing).start()"
   ]
  },
  {
   "cell_type": "code",
   "execution_count": null,
   "id": "ab769a3d-9570-4fa2-9e6e-8c0261a6313f",
   "metadata": {},
   "outputs": [],
   "source": [
    "mp.enumerate()"
   ]
  },
  {
   "cell_type": "markdown",
   "id": "6e7f74ef-2aee-46f4-9ffc-c05c05c44db6",
   "metadata": {},
   "source": [
    "#### ¿Cuántos hilos puedo instanciar?"
   ]
  },
  {
   "cell_type": "markdown",
   "id": "5ad44388-b4ee-4326-bcdc-f1394659a6ae",
   "metadata": {},
   "source": [
    "Se puede instanciar un número en concreto, dependiendo del intérpetre de python"
   ]
  },
  {
   "cell_type": "markdown",
   "id": "30006223-06ca-4b71-95bf-44581f730cfd",
   "metadata": {},
   "source": [
    " ## Import libs para manejar procesos (cores)"
   ]
  },
  {
   "cell_type": "code",
   "execution_count": 20,
   "id": "033970b8-bed3-4f41-b79a-df5c7ae27f4c",
   "metadata": {},
   "outputs": [],
   "source": [
    "import multiprocessing as mp  # manejo cores "
   ]
  },
  {
   "cell_type": "code",
   "execution_count": 9,
   "id": "1e577afa-cfbd-4370-a5e5-ffde098784e9",
   "metadata": {},
   "outputs": [
    {
     "data": {
      "text/plain": [
       "8"
      ]
     },
     "execution_count": 9,
     "metadata": {},
     "output_type": "execute_result"
    }
   ],
   "source": [
    "mp.cpu_count()"
   ]
  },
  {
   "cell_type": "code",
   "execution_count": 11,
   "id": "af8cc65a-8983-476c-a8a0-406986f2ee6e",
   "metadata": {},
   "outputs": [
    {
     "data": {
      "text/plain": [
       "<_MainProcess name='MainProcess' parent=None started>"
      ]
     },
     "execution_count": 11,
     "metadata": {},
     "output_type": "execute_result"
    }
   ],
   "source": [
    "mp.current_process()"
   ]
  },
  {
   "cell_type": "markdown",
   "id": "00f79343-fccb-48c7-aeff-8550788f937a",
   "metadata": {},
   "source": [
    "#### ¿Cuál es mi intérprete de python?"
   ]
  },
  {
   "cell_type": "code",
   "execution_count": 14,
   "id": "23d0ed24-3573-4ecd-bac3-3cbebd9b9688",
   "metadata": {},
   "outputs": [
    {
     "name": "stdout",
     "output_type": "stream",
     "text": [
      "Python 3.11.5\n"
     ]
    }
   ],
   "source": [
    "! python3 --version"
   ]
  },
  {
   "cell_type": "code",
   "execution_count": 15,
   "id": "a80d676a-0a06-4bfc-800c-cbd75fe81996",
   "metadata": {},
   "outputs": [],
   "source": [
    "import platform as pt"
   ]
  },
  {
   "cell_type": "code",
   "execution_count": 18,
   "id": "6bb45087-f18a-4d3b-98db-3405a13db767",
   "metadata": {},
   "outputs": [
    {
     "data": {
      "text/plain": [
       "'CPython'"
      ]
     },
     "execution_count": 18,
     "metadata": {},
     "output_type": "execute_result"
    }
   ],
   "source": [
    "pt.python_implementation()"
   ]
  },
  {
   "cell_type": "code",
   "execution_count": 17,
   "id": "a26f12c6-2b48-4fef-a339-56528ab288ea",
   "metadata": {},
   "outputs": [
    {
     "data": {
      "text/plain": [
       "'MSC v.1936 64 bit (AMD64)'"
      ]
     },
     "execution_count": 17,
     "metadata": {},
     "output_type": "execute_result"
    }
   ],
   "source": [
    "pt.python_compiler()"
   ]
  },
  {
   "cell_type": "code",
   "execution_count": 22,
   "id": "7cd2afeb-3879-49d2-a6a4-f10344519322",
   "metadata": {},
   "outputs": [
    {
     "data": {
      "text/plain": [
       "[[1, 2, 3, 4], [4, 6, 7]]"
      ]
     },
     "execution_count": 22,
     "metadata": {},
     "output_type": "execute_result"
    }
   ],
   "source": [
    "[[1,2,3,4],[4,6,7] ]"
   ]
  },
  {
   "cell_type": "code",
   "execution_count": null,
   "id": "c9cfefa7-2c3b-4f61-8566-c6fb28d29014",
   "metadata": {},
   "outputs": [],
   "source": []
  }
 ],
 "metadata": {
  "kernelspec": {
   "display_name": "Python 3 (ipykernel)",
   "language": "python",
   "name": "python3"
  },
  "language_info": {
   "codemirror_mode": {
    "name": "ipython",
    "version": 3
   },
   "file_extension": ".py",
   "mimetype": "text/x-python",
   "name": "python",
   "nbconvert_exporter": "python",
   "pygments_lexer": "ipython3",
   "version": "3.11.5"
  }
 },
 "nbformat": 4,
 "nbformat_minor": 5
}
