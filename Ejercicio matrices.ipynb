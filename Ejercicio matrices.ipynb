{
 "cells": [
  {
   "cell_type": "markdown",
   "id": "878bb831-9af9-4bfe-9f6b-c0f22d80dc29",
   "metadata": {},
   "source": [
    "### Ejercicio matrices"
   ]
  },
  {
   "cell_type": "code",
   "execution_count": 9,
   "id": "9178851b-bd8b-4cb9-83c6-1b516b30d0bd",
   "metadata": {},
   "outputs": [],
   "source": [
    "import random as r "
   ]
  },
  {
   "cell_type": "code",
   "execution_count": 26,
   "id": "d25993ae-8d2f-48ce-aabe-e281c19ff5ae",
   "metadata": {},
   "outputs": [],
   "source": [
    "def multiplicacionSecuencial(A,B):\n",
    "    filas_A = len(A)\n",
    "    columnas_A = len(A[0])\n",
    "    columnas_B = len(B[0])\n",
    "    C = [[0 for i in range(columnas_B)] for i in range(filas_A)]\n",
    "    for i in range(filas_A):\n",
    "        for j in range(columnas_B):\n",
    "            for k in range(columnas_A): \n",
    "                C[i][j] += A[i][k]*B[k][j]\n",
    "    return C"
   ]
  },
  {
   "cell_type": "code",
   "execution_count": 11,
   "id": "427500fd-0cdd-4335-b134-45b96f5049f9",
   "metadata": {},
   "outputs": [
    {
     "name": "stdin",
     "output_type": "stream",
     "text": [
      "Ingrese la dimension de las filas de A:  2\n",
      " Ingrese la dimension de las columnas de A:  3\n"
     ]
    }
   ],
   "source": [
    "filas_A= input(\"Ingrese la dimension de las filas de A: \")\n",
    "columnas_A = input(\" Ingrese la dimension de las columnas de A: \")"
   ]
  },
  {
   "cell_type": "code",
   "execution_count": 12,
   "id": "55dfd632-947e-4661-a2dd-e840309ec380",
   "metadata": {},
   "outputs": [
    {
     "name": "stdin",
     "output_type": "stream",
     "text": [
      "Ingrese la dimension de las filas de B:  3\n",
      " Ingrese la dimension de las columnas de B:  2\n"
     ]
    }
   ],
   "source": [
    "filas_B= input(\"Ingrese la dimension de las filas de B: \")\n",
    "columnas_B = input(\" Ingrese la dimension de las columnas de B: \")"
   ]
  },
  {
   "cell_type": "code",
   "execution_count": 28,
   "id": "bcc098f2-d1cc-4a37-aaf4-c39205fa7e3e",
   "metadata": {},
   "outputs": [],
   "source": [
    "A= [[r.randint(1,99999999) for i in range (int(columnas_A))] for i in range(int(filas_A))] \n",
    "B= [[r.randint(1,99999999) for i in range (int(columnas_B))] for i in range(int(filas_B))] "
   ]
  },
  {
   "cell_type": "code",
   "execution_count": 29,
   "id": "94174e74-3378-470c-abef-9f30b73be23a",
   "metadata": {},
   "outputs": [
    {
     "data": {
      "text/plain": [
       "[[53649318, 62255294, 42364029], [24354111, 69744082, 99892567]]"
      ]
     },
     "execution_count": 29,
     "metadata": {},
     "output_type": "execute_result"
    }
   ],
   "source": [
    "A"
   ]
  },
  {
   "cell_type": "code",
   "execution_count": 30,
   "id": "78db5ae4-60fa-429f-abc1-55051a98c786",
   "metadata": {},
   "outputs": [
    {
     "data": {
      "text/plain": [
       "[[13989993, 96023158], [96766799, 26530471], [81076191, 17269781]]"
      ]
     },
     "execution_count": 30,
     "metadata": {},
     "output_type": "execute_result"
    }
   ],
   "source": [
    "B"
   ]
  },
  {
   "cell_type": "code",
   "execution_count": 31,
   "id": "2e435f06-d7ff-4ff9-9aa0-f0bf4f4fb9a6",
   "metadata": {},
   "outputs": [
    {
     "data": {
      "text/plain": [
       "[[10209513211192219, 7534856714077367], [15188534248317038, 5914024749042987]]"
      ]
     },
     "execution_count": 31,
     "metadata": {},
     "output_type": "execute_result"
    }
   ],
   "source": [
    "multiplicacionSecuencial(A,B)"
   ]
  },
  {
   "cell_type": "code",
   "execution_count": 32,
   "id": "4b91e5c1-f5ce-4377-abef-f1c0d429958d",
   "metadata": {},
   "outputs": [],
   "source": [
    "import multiprocessing as \n",
    "#Con todos los cores posibles\n",
    "def mmultiplicacionParalela(A,B):\n",
    "    cores = mp.cpu_count() #Guardar todos los cores\n",
    "    filas_A/cores =  \n",
    "    columnas_B/cores =     "
   ]
  },
  {
   "cell_type": "code",
   "execution_count": 38,
   "id": "afaf6784-d1a3-4b9b-a862-50a12e66ab3d",
   "metadata": {},
   "outputs": [
    {
     "ename": "TypeError",
     "evalue": "unsupported operand type(s) for /: 'str' and 'int'",
     "output_type": "error",
     "traceback": [
      "\u001b[1;31m---------------------------------------------------------------------------\u001b[0m",
      "\u001b[1;31mTypeError\u001b[0m                                 Traceback (most recent call last)",
      "Cell \u001b[1;32mIn[38], line 2\u001b[0m\n\u001b[0;32m      1\u001b[0m cores \u001b[38;5;241m=\u001b[39m mp\u001b[38;5;241m.\u001b[39mcpu_count() \u001b[38;5;66;03m#Guardar todos los cores\u001b[39;00m\n\u001b[1;32m----> 2\u001b[0m \u001b[43mfilas_A\u001b[49m\u001b[38;5;241;43m/\u001b[39;49m\u001b[43mcores\u001b[49m\n",
      "\u001b[1;31mTypeError\u001b[0m: unsupported operand type(s) for /: 'str' and 'int'"
     ]
    }
   ],
   "source": [
    "cores = mp.cpu_count() #Guardar todos los cores\n",
    "filas_A/cores"
   ]
  },
  {
   "cell_type": "raw",
   "id": "4df3ea69-706c-42ae-ba5d-5930da2fa41f",
   "metadata": {},
   "source": [
    "multiplicacionParalela(A,B)"
   ]
  }
 ],
 "metadata": {
  "kernelspec": {
   "display_name": "Python 3 (ipykernel)",
   "language": "python",
   "name": "python3"
  },
  "language_info": {
   "codemirror_mode": {
    "name": "ipython",
    "version": 3
   },
   "file_extension": ".py",
   "mimetype": "text/x-python",
   "name": "python",
   "nbconvert_exporter": "python",
   "pygments_lexer": "ipython3",
   "version": "3.11.5"
  }
 },
 "nbformat": 4,
 "nbformat_minor": 5
}
