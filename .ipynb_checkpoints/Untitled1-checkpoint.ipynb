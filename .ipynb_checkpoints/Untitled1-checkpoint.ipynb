{
 "cells": [
  {
   "cell_type": "markdown",
   "id": "e2f15d35-5dd7-496c-aaa2-0671adc65fde",
   "metadata": {},
   "source": [
    "# Clase 16/11/2023: SOCKETS "
   ]
  },
  {
   "cell_type": "markdown",
   "id": "d06fc3e2-49c3-4234-8949-2d9b4d5956cf",
   "metadata": {},
   "source": [
    "Comunicación entre 2 programas independientes"
   ]
  },
  {
   "cell_type": "code",
   "execution_count": 1,
   "id": "87854a23-828b-4d78-90b0-41315f22dfa9",
   "metadata": {},
   "outputs": [],
   "source": [
    "from IPython import display as dp"
   ]
  },
  {
   "cell_type": "markdown",
   "id": "6a708ff2-3b43-4479-b242-4444abeebb99",
   "metadata": {},
   "source": [
    "## Cliente"
   ]
  },
  {
   "cell_type": "code",
   "execution_count": null,
   "id": "e72f2b34-e023-4b51-ae48-418b19f2db7d",
   "metadata": {},
   "outputs": [],
   "source": []
  },
  {
   "cell_type": "markdown",
   "id": "ada63d5a-1be7-4511-97fa-130ccce74791",
   "metadata": {},
   "source": [
    "## Server"
   ]
  },
  {
   "cell_type": "code",
   "execution_count": null,
   "id": "7322affb-5f3f-4145-bd64-268b31fbe8d7",
   "metadata": {},
   "outputs": [],
   "source": []
  }
 ],
 "metadata": {
  "kernelspec": {
   "display_name": "Python 3 (ipykernel)",
   "language": "python",
   "name": "python3"
  },
  "language_info": {
   "codemirror_mode": {
    "name": "ipython",
    "version": 3
   },
   "file_extension": ".py",
   "mimetype": "text/x-python",
   "name": "python",
   "nbconvert_exporter": "python",
   "pygments_lexer": "ipython3",
   "version": "3.11.5"
  }
 },
 "nbformat": 4,
 "nbformat_minor": 5
}
